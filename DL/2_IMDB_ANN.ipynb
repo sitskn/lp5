{
 "cells": [
  {
   "cell_type": "code",
   "execution_count": 2,
   "id": "90ee8f23",
   "metadata": {},
   "outputs": [],
   "source": [
    "import pandas as pd\n",
    "import numpy as np\n",
    "import matplotlib.pyplot as plt\n",
    "import seaborn as sns\n",
    "import warnings\n",
    "warnings.filterwarnings(\"ignore\")\n"
   ]
  },
  {
   "cell_type": "code",
   "execution_count": 3,
   "id": "b698fc12",
   "metadata": {
    "collapsed": true
   },
   "outputs": [
    {
     "data": {
      "text/html": [
       "<div>\n",
       "<style scoped>\n",
       "    .dataframe tbody tr th:only-of-type {\n",
       "        vertical-align: middle;\n",
       "    }\n",
       "\n",
       "    .dataframe tbody tr th {\n",
       "        vertical-align: top;\n",
       "    }\n",
       "\n",
       "    .dataframe thead th {\n",
       "        text-align: right;\n",
       "    }\n",
       "</style>\n",
       "<table border=\"1\" class=\"dataframe\">\n",
       "  <thead>\n",
       "    <tr style=\"text-align: right;\">\n",
       "      <th></th>\n",
       "      <th>review</th>\n",
       "      <th>sentiment</th>\n",
       "    </tr>\n",
       "  </thead>\n",
       "  <tbody>\n",
       "    <tr>\n",
       "      <th>0</th>\n",
       "      <td>One of the other reviewers has mentioned that ...</td>\n",
       "      <td>positive</td>\n",
       "    </tr>\n",
       "    <tr>\n",
       "      <th>1</th>\n",
       "      <td>A wonderful little production. &lt;br /&gt;&lt;br /&gt;The...</td>\n",
       "      <td>positive</td>\n",
       "    </tr>\n",
       "    <tr>\n",
       "      <th>2</th>\n",
       "      <td>I thought this was a wonderful way to spend ti...</td>\n",
       "      <td>positive</td>\n",
       "    </tr>\n",
       "    <tr>\n",
       "      <th>3</th>\n",
       "      <td>Basically there's a family where a little boy ...</td>\n",
       "      <td>negative</td>\n",
       "    </tr>\n",
       "    <tr>\n",
       "      <th>4</th>\n",
       "      <td>Petter Mattei's \"Love in the Time of Money\" is...</td>\n",
       "      <td>positive</td>\n",
       "    </tr>\n",
       "    <tr>\n",
       "      <th>5</th>\n",
       "      <td>Probably my all-time favorite movie, a story o...</td>\n",
       "      <td>positive</td>\n",
       "    </tr>\n",
       "    <tr>\n",
       "      <th>6</th>\n",
       "      <td>I sure would like to see a resurrection of a u...</td>\n",
       "      <td>positive</td>\n",
       "    </tr>\n",
       "    <tr>\n",
       "      <th>7</th>\n",
       "      <td>This show was an amazing, fresh &amp; innovative i...</td>\n",
       "      <td>negative</td>\n",
       "    </tr>\n",
       "    <tr>\n",
       "      <th>8</th>\n",
       "      <td>Encouraged by the positive comments about this...</td>\n",
       "      <td>negative</td>\n",
       "    </tr>\n",
       "    <tr>\n",
       "      <th>9</th>\n",
       "      <td>If you like original gut wrenching laughter yo...</td>\n",
       "      <td>positive</td>\n",
       "    </tr>\n",
       "  </tbody>\n",
       "</table>\n",
       "</div>"
      ],
      "text/plain": [
       "                                              review sentiment\n",
       "0  One of the other reviewers has mentioned that ...  positive\n",
       "1  A wonderful little production. <br /><br />The...  positive\n",
       "2  I thought this was a wonderful way to spend ti...  positive\n",
       "3  Basically there's a family where a little boy ...  negative\n",
       "4  Petter Mattei's \"Love in the Time of Money\" is...  positive\n",
       "5  Probably my all-time favorite movie, a story o...  positive\n",
       "6  I sure would like to see a resurrection of a u...  positive\n",
       "7  This show was an amazing, fresh & innovative i...  negative\n",
       "8  Encouraged by the positive comments about this...  negative\n",
       "9  If you like original gut wrenching laughter yo...  positive"
      ]
     },
     "execution_count": 3,
     "metadata": {},
     "output_type": "execute_result"
    }
   ],
   "source": [
    "df=pd.read_csv(\"IMDB Dataset.csv\")\n",
    "df1=df.head(10)\n",
    "df1"
   ]
  },
  {
   "cell_type": "code",
   "execution_count": 4,
   "id": "f7687a67",
   "metadata": {
    "collapsed": true
   },
   "outputs": [
    {
     "name": "stdout",
     "output_type": "stream",
     "text": [
      "<class 'pandas.core.frame.DataFrame'>\n",
      "RangeIndex: 50000 entries, 0 to 49999\n",
      "Data columns (total 2 columns):\n",
      " #   Column     Non-Null Count  Dtype \n",
      "---  ------     --------------  ----- \n",
      " 0   review     50000 non-null  object\n",
      " 1   sentiment  50000 non-null  object\n",
      "dtypes: object(2)\n",
      "memory usage: 781.4+ KB\n"
     ]
    }
   ],
   "source": [
    "df.info()"
   ]
  },
  {
   "cell_type": "code",
   "execution_count": 5,
   "id": "5835c7c2",
   "metadata": {
    "collapsed": true
   },
   "outputs": [
    {
     "data": {
      "text/plain": [
       "review       0\n",
       "sentiment    0\n",
       "dtype: int64"
      ]
     },
     "execution_count": 5,
     "metadata": {},
     "output_type": "execute_result"
    }
   ],
   "source": [
    "df.isnull().sum()"
   ]
  },
  {
   "cell_type": "code",
   "execution_count": 6,
   "id": "edc92689",
   "metadata": {
    "collapsed": true
   },
   "outputs": [
    {
     "data": {
      "text/plain": [
       "positive    25000\n",
       "negative    25000\n",
       "Name: sentiment, dtype: int64"
      ]
     },
     "execution_count": 6,
     "metadata": {},
     "output_type": "execute_result"
    }
   ],
   "source": [
    "df.sentiment.value_counts()"
   ]
  },
  {
   "cell_type": "code",
   "execution_count": 7,
   "id": "f758260c",
   "metadata": {
    "collapsed": true
   },
   "outputs": [
    {
     "data": {
      "text/plain": [
       "Loved today's show!!! It was a variety and not solely cooking (which would have been great too). Very stimulating and captivating, always keeping the viewer peeking around the corner to see what was coming up next. She is as down to earth and as personable as you get, like one of us which made the show all the more enjoyable. Special guests, who are friends as well made for a nice surprise too. Loved the 'first' theme and that the audience was invited to play along too. I must admit I was shocked to see her come in under her time limits on a few things, but she did it and by golly I'll be writing those recipes down. Saving time in the kitchen means more time with family. Those who haven't tuned in yet, find out what channel and the time, I assure you that you won't be disappointed.                                                                                                                                                                                                                                  5\n",
       "Hilarious, clean, light-hearted, and quote-worthy. What else can you ask for in a film? This is my all-time, number one favorite movie. Ever since I was a little girl, I've dreamed of owning a blue van with flames and an observation bubble.<br /><br />The cliché characters in ridiculous situations are what make this film such great fun. The wonderful comedic chemistry between Stephen Furst (Harold) and Andy Tennant (Melio) make up most of my favorite parts of the movie. And who didn't love the hopeless awkwardness of Flynch? Don't forget the airport antics of Leon's cronies, dressed up as Hari Krishnas: dancing, chanting and playing the tambourine--unbeatable! The clues are genius, the locations are classic, and the plot is timeless.<br /><br />A word to the wise, if you didn't watch this film when you were little, it probably won't win a place in your heart today. But nevertheless give it a chance, you may find that \"It doesn't matter what you say, it doesn't matter what you do, you've gotta play.\"    4\n",
       "Name: review, dtype: int64"
      ]
     },
     "execution_count": 7,
     "metadata": {},
     "output_type": "execute_result"
    }
   ],
   "source": [
    "df.review.value_counts().head(2)"
   ]
  },
  {
   "cell_type": "code",
   "execution_count": 8,
   "id": "e5da1879",
   "metadata": {
    "collapsed": true
   },
   "outputs": [
    {
     "data": {
      "text/plain": [
       "False    49582\n",
       "True       418\n",
       "dtype: int64"
      ]
     },
     "execution_count": 8,
     "metadata": {},
     "output_type": "execute_result"
    }
   ],
   "source": [
    "# checking how many duplicate valu there are?\n",
    "df.duplicated().value_counts()"
   ]
  },
  {
   "cell_type": "code",
   "execution_count": 9,
   "id": "398e5ded",
   "metadata": {
    "collapsed": true
   },
   "outputs": [
    {
     "data": {
      "text/html": [
       "<div>\n",
       "<style scoped>\n",
       "    .dataframe tbody tr th:only-of-type {\n",
       "        vertical-align: middle;\n",
       "    }\n",
       "\n",
       "    .dataframe tbody tr th {\n",
       "        vertical-align: top;\n",
       "    }\n",
       "\n",
       "    .dataframe thead th {\n",
       "        text-align: right;\n",
       "    }\n",
       "</style>\n",
       "<table border=\"1\" class=\"dataframe\">\n",
       "  <thead>\n",
       "    <tr style=\"text-align: right;\">\n",
       "      <th></th>\n",
       "      <th>review</th>\n",
       "      <th>sentiment</th>\n",
       "    </tr>\n",
       "  </thead>\n",
       "  <tbody>\n",
       "    <tr>\n",
       "      <th>4238</th>\n",
       "      <td>Henry Thomas showed a restraint, even when the...</td>\n",
       "      <td>positive</td>\n",
       "    </tr>\n",
       "    <tr>\n",
       "      <th>8153</th>\n",
       "      <td>The first few minutes of \"The Bodyguard\" do ha...</td>\n",
       "      <td>negative</td>\n",
       "    </tr>\n",
       "    <tr>\n",
       "      <th>30214</th>\n",
       "      <td>Nick Cage is Gates, a treasure hunter (oh, exc...</td>\n",
       "      <td>negative</td>\n",
       "    </tr>\n",
       "    <tr>\n",
       "      <th>33260</th>\n",
       "      <td>Even though an animated film it really bored e...</td>\n",
       "      <td>negative</td>\n",
       "    </tr>\n",
       "    <tr>\n",
       "      <th>13746</th>\n",
       "      <td>Revenge on us the viewing public perhaps. I sa...</td>\n",
       "      <td>negative</td>\n",
       "    </tr>\n",
       "    <tr>\n",
       "      <th>...</th>\n",
       "      <td>...</td>\n",
       "      <td>...</td>\n",
       "    </tr>\n",
       "    <tr>\n",
       "      <th>4923</th>\n",
       "      <td>I readily admit that I watch a lot of really b...</td>\n",
       "      <td>negative</td>\n",
       "    </tr>\n",
       "    <tr>\n",
       "      <th>37796</th>\n",
       "      <td>Oh my gosh! this was one of the best Sci-fi mo...</td>\n",
       "      <td>positive</td>\n",
       "    </tr>\n",
       "    <tr>\n",
       "      <th>2229</th>\n",
       "      <td>The first question is: how many talentless idi...</td>\n",
       "      <td>negative</td>\n",
       "    </tr>\n",
       "    <tr>\n",
       "      <th>41556</th>\n",
       "      <td>Being a self confessed slasher addict means th...</td>\n",
       "      <td>positive</td>\n",
       "    </tr>\n",
       "    <tr>\n",
       "      <th>49358</th>\n",
       "      <td>Tiny Toons is the first cartoon I remember wat...</td>\n",
       "      <td>positive</td>\n",
       "    </tr>\n",
       "  </tbody>\n",
       "</table>\n",
       "<p>10000 rows × 2 columns</p>\n",
       "</div>"
      ],
      "text/plain": [
       "                                                  review sentiment\n",
       "4238   Henry Thomas showed a restraint, even when the...  positive\n",
       "8153   The first few minutes of \"The Bodyguard\" do ha...  negative\n",
       "30214  Nick Cage is Gates, a treasure hunter (oh, exc...  negative\n",
       "33260  Even though an animated film it really bored e...  negative\n",
       "13746  Revenge on us the viewing public perhaps. I sa...  negative\n",
       "...                                                  ...       ...\n",
       "4923   I readily admit that I watch a lot of really b...  negative\n",
       "37796  Oh my gosh! this was one of the best Sci-fi mo...  positive\n",
       "2229   The first question is: how many talentless idi...  negative\n",
       "41556  Being a self confessed slasher addict means th...  positive\n",
       "49358  Tiny Toons is the first cartoon I remember wat...  positive\n",
       "\n",
       "[10000 rows x 2 columns]"
      ]
     },
     "execution_count": 9,
     "metadata": {},
     "output_type": "execute_result"
    }
   ],
   "source": [
    "data=df.sample(10000)\n",
    "data"
   ]
  },
  {
   "cell_type": "code",
   "execution_count": 10,
   "id": "67199f2d",
   "metadata": {},
   "outputs": [],
   "source": [
    "data.drop_duplicates(inplace=True)"
   ]
  },
  {
   "cell_type": "code",
   "execution_count": 11,
   "id": "489519ad",
   "metadata": {
    "collapsed": true
   },
   "outputs": [
    {
     "data": {
      "text/plain": [
       "False    9987\n",
       "dtype: int64"
      ]
     },
     "execution_count": 11,
     "metadata": {},
     "output_type": "execute_result"
    }
   ],
   "source": [
    "data.duplicated().value_counts()"
   ]
  },
  {
   "cell_type": "code",
   "execution_count": 12,
   "id": "7ed0efd7",
   "metadata": {
    "collapsed": true
   },
   "outputs": [
    {
     "name": "stdout",
     "output_type": "stream",
     "text": [
      "Requirement already satisfied: nltk in c:\\users\\sit\\anaconda3\\lib\\site-packages (3.6.5)\n",
      "Requirement already satisfied: click in c:\\users\\sit\\anaconda3\\lib\\site-packages (from nltk) (8.0.3)\n",
      "Requirement already satisfied: joblib in c:\\users\\sit\\anaconda3\\lib\\site-packages (from nltk) (1.1.0)\n",
      "Requirement already satisfied: regex>=2021.8.3 in c:\\users\\sit\\anaconda3\\lib\\site-packages (from nltk) (2021.8.3)\n",
      "Requirement already satisfied: tqdm in c:\\users\\sit\\anaconda3\\lib\\site-packages (from nltk) (4.62.3)\n",
      "Requirement already satisfied: colorama in c:\\users\\sit\\anaconda3\\lib\\site-packages (from click->nltk) (0.4.4)\n",
      "Note: you may need to restart the kernel to use updated packages.\n"
     ]
    }
   ],
   "source": [
    "pip install nltk"
   ]
  },
  {
   "cell_type": "code",
   "execution_count": 13,
   "id": "d3e58ac9",
   "metadata": {
    "collapsed": true
   },
   "outputs": [
    {
     "name": "stderr",
     "output_type": "stream",
     "text": [
      "[nltk_data] Downloading package stopwords to\n",
      "[nltk_data]     C:\\Users\\SIT\\AppData\\Roaming\\nltk_data...\n",
      "[nltk_data]   Package stopwords is already up-to-date!\n"
     ]
    },
    {
     "data": {
      "text/plain": [
       "True"
      ]
     },
     "execution_count": 13,
     "metadata": {},
     "output_type": "execute_result"
    }
   ],
   "source": [
    "import nltk\n",
    "from nltk.tokenize import word_tokenize\n",
    "from nltk.corpus import stopwords\n",
    "from nltk.stem.porter import PorterStemmer\n",
    "from bs4 import BeautifulSoup\n",
    "nltk.download('stopwords')"
   ]
  },
  {
   "cell_type": "code",
   "execution_count": 14,
   "id": "6a671bc0",
   "metadata": {},
   "outputs": [],
   "source": [
    "# function to clean whole text\n",
    "def clean_review(review, stemmer = PorterStemmer(), stop_words = set(stopwords.words(\"english\"))):\n",
    "    #removing html tags from reviews\n",
    "    soup = BeautifulSoup(review, \"html.parser\")\n",
    "    no_html_review = soup.get_text().lower()\n",
    "    \n",
    "    # empty list for adding clean words\n",
    "    clean_text = []\n",
    "    # cleaning stopwords and not alpha characters\n",
    "    for word in review.split():\n",
    "        if word not in stop_words and word.isalpha():\n",
    "            clean_text.append(stemmer.stem(word))\n",
    "        \n",
    "    return \" \".join(clean_text)"
   ]
  },
  {
   "cell_type": "code",
   "execution_count": 15,
   "id": "d0dbe132",
   "metadata": {},
   "outputs": [],
   "source": [
    "data.review = data.review.apply(clean_review)"
   ]
  },
  {
   "cell_type": "code",
   "execution_count": 16,
   "id": "478928cc",
   "metadata": {
    "collapsed": true
   },
   "outputs": [
    {
     "data": {
      "text/plain": [
       "'the fulli round charact princip role cop torn past path clear uniqu haunt music well written film prime exampl film noir eye reveal anguish karl malden excel brook nonsens also compass command preming made type movi if fault would breath take beauti gene tierney seem oddli place harden their scene wonder ring bit part father perfect gari merril great light mood the build deadli deed take place highli i love old woman'"
      ]
     },
     "execution_count": 16,
     "metadata": {},
     "output_type": "execute_result"
    }
   ],
   "source": [
    "#checking the clean review in specific locaion\n",
    "data.review.iloc[3537]"
   ]
  },
  {
   "cell_type": "code",
   "execution_count": 17,
   "id": "d3a4bac2",
   "metadata": {
    "collapsed": true
   },
   "outputs": [
    {
     "data": {
      "text/html": [
       "<div>\n",
       "<style scoped>\n",
       "    .dataframe tbody tr th:only-of-type {\n",
       "        vertical-align: middle;\n",
       "    }\n",
       "\n",
       "    .dataframe tbody tr th {\n",
       "        vertical-align: top;\n",
       "    }\n",
       "\n",
       "    .dataframe thead th {\n",
       "        text-align: right;\n",
       "    }\n",
       "</style>\n",
       "<table border=\"1\" class=\"dataframe\">\n",
       "  <thead>\n",
       "    <tr style=\"text-align: right;\">\n",
       "      <th></th>\n",
       "      <th>review</th>\n",
       "      <th>sentiment</th>\n",
       "    </tr>\n",
       "  </thead>\n",
       "  <tbody>\n",
       "    <tr>\n",
       "      <th>4238</th>\n",
       "      <td>henri thoma show even third act turn horribl h...</td>\n",
       "      <td>positive</td>\n",
       "    </tr>\n",
       "    <tr>\n",
       "      <th>8153</th>\n",
       "      <td>the first minut campi open crawl text bibl par...</td>\n",
       "      <td>negative</td>\n",
       "    </tr>\n",
       "    <tr>\n",
       "      <th>30214</th>\n",
       "      <td>nick cage treasur hunter excus treasur whatev ...</td>\n",
       "      <td>negative</td>\n",
       "    </tr>\n",
       "    <tr>\n",
       "      <th>33260</th>\n",
       "      <td>even though anim film realli bore everyon leas...</td>\n",
       "      <td>negative</td>\n",
       "    </tr>\n",
       "    <tr>\n",
       "      <th>13746</th>\n",
       "      <td>reveng us view public i sat hour movi wait sec...</td>\n",
       "      <td>negative</td>\n",
       "    </tr>\n",
       "    <tr>\n",
       "      <th>...</th>\n",
       "      <td>...</td>\n",
       "      <td>...</td>\n",
       "    </tr>\n",
       "    <tr>\n",
       "      <th>4923</th>\n",
       "      <td>i readili admit i watch lot realli bad but i t...</td>\n",
       "      <td>negative</td>\n",
       "    </tr>\n",
       "    <tr>\n",
       "      <th>37796</th>\n",
       "      <td>oh one best movi ever quit frankli stand diese...</td>\n",
       "      <td>positive</td>\n",
       "    </tr>\n",
       "    <tr>\n",
       "      <th>2229</th>\n",
       "      <td>the first question mani talentless idiot take ...</td>\n",
       "      <td>negative</td>\n",
       "    </tr>\n",
       "    <tr>\n",
       "      <th>41556</th>\n",
       "      <td>be self confess slasher addict mean rare i get...</td>\n",
       "      <td>positive</td>\n",
       "    </tr>\n",
       "    <tr>\n",
       "      <th>49358</th>\n",
       "      <td>tini toon first cartoon i rememb watch child i...</td>\n",
       "      <td>positive</td>\n",
       "    </tr>\n",
       "  </tbody>\n",
       "</table>\n",
       "<p>9987 rows × 2 columns</p>\n",
       "</div>"
      ],
      "text/plain": [
       "                                                  review sentiment\n",
       "4238   henri thoma show even third act turn horribl h...  positive\n",
       "8153   the first minut campi open crawl text bibl par...  negative\n",
       "30214  nick cage treasur hunter excus treasur whatev ...  negative\n",
       "33260  even though anim film realli bore everyon leas...  negative\n",
       "13746  reveng us view public i sat hour movi wait sec...  negative\n",
       "...                                                  ...       ...\n",
       "4923   i readili admit i watch lot realli bad but i t...  negative\n",
       "37796  oh one best movi ever quit frankli stand diese...  positive\n",
       "2229   the first question mani talentless idiot take ...  negative\n",
       "41556  be self confess slasher addict mean rare i get...  positive\n",
       "49358  tini toon first cartoon i rememb watch child i...  positive\n",
       "\n",
       "[9987 rows x 2 columns]"
      ]
     },
     "execution_count": 17,
     "metadata": {},
     "output_type": "execute_result"
    }
   ],
   "source": [
    "#how the data looks like now\n",
    "data"
   ]
  },
  {
   "cell_type": "code",
   "execution_count": 18,
   "id": "2270d05f",
   "metadata": {},
   "outputs": [],
   "source": [
    "# verctorizing reviews \n",
    "#import CountVectorizer\n",
    "from sklearn.feature_extraction.text import CountVectorizer\n",
    "\n",
    "# setting max_features to 5000 to get most repeated 5000 words in reviews\n",
    "cv = CountVectorizer(max_features=300,ngram_range=(1,4))"
   ]
  },
  {
   "cell_type": "code",
   "execution_count": 19,
   "id": "cf86ef02",
   "metadata": {
    "collapsed": true
   },
   "outputs": [
    {
     "data": {
      "text/html": [
       "<div>\n",
       "<style scoped>\n",
       "    .dataframe tbody tr th:only-of-type {\n",
       "        vertical-align: middle;\n",
       "    }\n",
       "\n",
       "    .dataframe tbody tr th {\n",
       "        vertical-align: top;\n",
       "    }\n",
       "\n",
       "    .dataframe thead th {\n",
       "        text-align: right;\n",
       "    }\n",
       "</style>\n",
       "<table border=\"1\" class=\"dataframe\">\n",
       "  <thead>\n",
       "    <tr style=\"text-align: right;\">\n",
       "      <th></th>\n",
       "      <th>absolut</th>\n",
       "      <th>act</th>\n",
       "      <th>action</th>\n",
       "      <th>actor</th>\n",
       "      <th>actual</th>\n",
       "      <th>all</th>\n",
       "      <th>almost</th>\n",
       "      <th>along</th>\n",
       "      <th>also</th>\n",
       "      <th>although</th>\n",
       "      <th>...</th>\n",
       "      <th>work</th>\n",
       "      <th>world</th>\n",
       "      <th>worst</th>\n",
       "      <th>worth</th>\n",
       "      <th>would</th>\n",
       "      <th>write</th>\n",
       "      <th>year</th>\n",
       "      <th>yet</th>\n",
       "      <th>you</th>\n",
       "      <th>young</th>\n",
       "    </tr>\n",
       "  </thead>\n",
       "  <tbody>\n",
       "    <tr>\n",
       "      <th>0</th>\n",
       "      <td>0</td>\n",
       "      <td>1</td>\n",
       "      <td>0</td>\n",
       "      <td>0</td>\n",
       "      <td>0</td>\n",
       "      <td>0</td>\n",
       "      <td>0</td>\n",
       "      <td>0</td>\n",
       "      <td>0</td>\n",
       "      <td>0</td>\n",
       "      <td>...</td>\n",
       "      <td>0</td>\n",
       "      <td>0</td>\n",
       "      <td>0</td>\n",
       "      <td>0</td>\n",
       "      <td>0</td>\n",
       "      <td>0</td>\n",
       "      <td>0</td>\n",
       "      <td>0</td>\n",
       "      <td>0</td>\n",
       "      <td>0</td>\n",
       "    </tr>\n",
       "    <tr>\n",
       "      <th>1</th>\n",
       "      <td>0</td>\n",
       "      <td>0</td>\n",
       "      <td>1</td>\n",
       "      <td>0</td>\n",
       "      <td>0</td>\n",
       "      <td>0</td>\n",
       "      <td>0</td>\n",
       "      <td>0</td>\n",
       "      <td>0</td>\n",
       "      <td>0</td>\n",
       "      <td>...</td>\n",
       "      <td>0</td>\n",
       "      <td>0</td>\n",
       "      <td>0</td>\n",
       "      <td>0</td>\n",
       "      <td>0</td>\n",
       "      <td>0</td>\n",
       "      <td>0</td>\n",
       "      <td>0</td>\n",
       "      <td>1</td>\n",
       "      <td>0</td>\n",
       "    </tr>\n",
       "    <tr>\n",
       "      <th>2</th>\n",
       "      <td>0</td>\n",
       "      <td>0</td>\n",
       "      <td>0</td>\n",
       "      <td>0</td>\n",
       "      <td>2</td>\n",
       "      <td>1</td>\n",
       "      <td>0</td>\n",
       "      <td>1</td>\n",
       "      <td>1</td>\n",
       "      <td>0</td>\n",
       "      <td>...</td>\n",
       "      <td>0</td>\n",
       "      <td>0</td>\n",
       "      <td>0</td>\n",
       "      <td>0</td>\n",
       "      <td>1</td>\n",
       "      <td>0</td>\n",
       "      <td>0</td>\n",
       "      <td>0</td>\n",
       "      <td>0</td>\n",
       "      <td>0</td>\n",
       "    </tr>\n",
       "    <tr>\n",
       "      <th>3</th>\n",
       "      <td>0</td>\n",
       "      <td>0</td>\n",
       "      <td>0</td>\n",
       "      <td>0</td>\n",
       "      <td>0</td>\n",
       "      <td>0</td>\n",
       "      <td>0</td>\n",
       "      <td>0</td>\n",
       "      <td>0</td>\n",
       "      <td>0</td>\n",
       "      <td>...</td>\n",
       "      <td>0</td>\n",
       "      <td>1</td>\n",
       "      <td>0</td>\n",
       "      <td>0</td>\n",
       "      <td>0</td>\n",
       "      <td>0</td>\n",
       "      <td>0</td>\n",
       "      <td>0</td>\n",
       "      <td>0</td>\n",
       "      <td>0</td>\n",
       "    </tr>\n",
       "    <tr>\n",
       "      <th>4</th>\n",
       "      <td>0</td>\n",
       "      <td>1</td>\n",
       "      <td>0</td>\n",
       "      <td>0</td>\n",
       "      <td>0</td>\n",
       "      <td>0</td>\n",
       "      <td>0</td>\n",
       "      <td>0</td>\n",
       "      <td>0</td>\n",
       "      <td>0</td>\n",
       "      <td>...</td>\n",
       "      <td>0</td>\n",
       "      <td>0</td>\n",
       "      <td>0</td>\n",
       "      <td>0</td>\n",
       "      <td>0</td>\n",
       "      <td>0</td>\n",
       "      <td>0</td>\n",
       "      <td>0</td>\n",
       "      <td>0</td>\n",
       "      <td>0</td>\n",
       "    </tr>\n",
       "    <tr>\n",
       "      <th>...</th>\n",
       "      <td>...</td>\n",
       "      <td>...</td>\n",
       "      <td>...</td>\n",
       "      <td>...</td>\n",
       "      <td>...</td>\n",
       "      <td>...</td>\n",
       "      <td>...</td>\n",
       "      <td>...</td>\n",
       "      <td>...</td>\n",
       "      <td>...</td>\n",
       "      <td>...</td>\n",
       "      <td>...</td>\n",
       "      <td>...</td>\n",
       "      <td>...</td>\n",
       "      <td>...</td>\n",
       "      <td>...</td>\n",
       "      <td>...</td>\n",
       "      <td>...</td>\n",
       "      <td>...</td>\n",
       "      <td>...</td>\n",
       "      <td>...</td>\n",
       "    </tr>\n",
       "    <tr>\n",
       "      <th>9982</th>\n",
       "      <td>0</td>\n",
       "      <td>0</td>\n",
       "      <td>0</td>\n",
       "      <td>0</td>\n",
       "      <td>0</td>\n",
       "      <td>0</td>\n",
       "      <td>0</td>\n",
       "      <td>0</td>\n",
       "      <td>0</td>\n",
       "      <td>0</td>\n",
       "      <td>...</td>\n",
       "      <td>0</td>\n",
       "      <td>0</td>\n",
       "      <td>0</td>\n",
       "      <td>0</td>\n",
       "      <td>0</td>\n",
       "      <td>0</td>\n",
       "      <td>1</td>\n",
       "      <td>0</td>\n",
       "      <td>0</td>\n",
       "      <td>0</td>\n",
       "    </tr>\n",
       "    <tr>\n",
       "      <th>9983</th>\n",
       "      <td>0</td>\n",
       "      <td>0</td>\n",
       "      <td>0</td>\n",
       "      <td>1</td>\n",
       "      <td>0</td>\n",
       "      <td>0</td>\n",
       "      <td>0</td>\n",
       "      <td>0</td>\n",
       "      <td>1</td>\n",
       "      <td>0</td>\n",
       "      <td>...</td>\n",
       "      <td>0</td>\n",
       "      <td>0</td>\n",
       "      <td>0</td>\n",
       "      <td>0</td>\n",
       "      <td>0</td>\n",
       "      <td>0</td>\n",
       "      <td>0</td>\n",
       "      <td>0</td>\n",
       "      <td>0</td>\n",
       "      <td>0</td>\n",
       "    </tr>\n",
       "    <tr>\n",
       "      <th>9984</th>\n",
       "      <td>0</td>\n",
       "      <td>0</td>\n",
       "      <td>0</td>\n",
       "      <td>1</td>\n",
       "      <td>0</td>\n",
       "      <td>0</td>\n",
       "      <td>0</td>\n",
       "      <td>0</td>\n",
       "      <td>0</td>\n",
       "      <td>0</td>\n",
       "      <td>...</td>\n",
       "      <td>0</td>\n",
       "      <td>0</td>\n",
       "      <td>0</td>\n",
       "      <td>0</td>\n",
       "      <td>0</td>\n",
       "      <td>1</td>\n",
       "      <td>0</td>\n",
       "      <td>0</td>\n",
       "      <td>0</td>\n",
       "      <td>0</td>\n",
       "    </tr>\n",
       "    <tr>\n",
       "      <th>9985</th>\n",
       "      <td>0</td>\n",
       "      <td>1</td>\n",
       "      <td>0</td>\n",
       "      <td>0</td>\n",
       "      <td>0</td>\n",
       "      <td>0</td>\n",
       "      <td>1</td>\n",
       "      <td>0</td>\n",
       "      <td>0</td>\n",
       "      <td>0</td>\n",
       "      <td>...</td>\n",
       "      <td>0</td>\n",
       "      <td>0</td>\n",
       "      <td>0</td>\n",
       "      <td>1</td>\n",
       "      <td>0</td>\n",
       "      <td>0</td>\n",
       "      <td>1</td>\n",
       "      <td>0</td>\n",
       "      <td>0</td>\n",
       "      <td>0</td>\n",
       "    </tr>\n",
       "    <tr>\n",
       "      <th>9986</th>\n",
       "      <td>0</td>\n",
       "      <td>0</td>\n",
       "      <td>0</td>\n",
       "      <td>0</td>\n",
       "      <td>0</td>\n",
       "      <td>0</td>\n",
       "      <td>0</td>\n",
       "      <td>0</td>\n",
       "      <td>0</td>\n",
       "      <td>0</td>\n",
       "      <td>...</td>\n",
       "      <td>0</td>\n",
       "      <td>0</td>\n",
       "      <td>0</td>\n",
       "      <td>0</td>\n",
       "      <td>1</td>\n",
       "      <td>0</td>\n",
       "      <td>1</td>\n",
       "      <td>0</td>\n",
       "      <td>0</td>\n",
       "      <td>0</td>\n",
       "    </tr>\n",
       "  </tbody>\n",
       "</table>\n",
       "<p>9987 rows × 300 columns</p>\n",
       "</div>"
      ],
      "text/plain": [
       "      absolut  act  action  actor  actual  all  almost  along  also  although  \\\n",
       "0           0    1       0      0       0    0       0      0     0         0   \n",
       "1           0    0       1      0       0    0       0      0     0         0   \n",
       "2           0    0       0      0       2    1       0      1     1         0   \n",
       "3           0    0       0      0       0    0       0      0     0         0   \n",
       "4           0    1       0      0       0    0       0      0     0         0   \n",
       "...       ...  ...     ...    ...     ...  ...     ...    ...   ...       ...   \n",
       "9982        0    0       0      0       0    0       0      0     0         0   \n",
       "9983        0    0       0      1       0    0       0      0     1         0   \n",
       "9984        0    0       0      1       0    0       0      0     0         0   \n",
       "9985        0    1       0      0       0    0       1      0     0         0   \n",
       "9986        0    0       0      0       0    0       0      0     0         0   \n",
       "\n",
       "      ...  work  world  worst  worth  would  write  year  yet  you  young  \n",
       "0     ...     0      0      0      0      0      0     0    0    0      0  \n",
       "1     ...     0      0      0      0      0      0     0    0    1      0  \n",
       "2     ...     0      0      0      0      1      0     0    0    0      0  \n",
       "3     ...     0      1      0      0      0      0     0    0    0      0  \n",
       "4     ...     0      0      0      0      0      0     0    0    0      0  \n",
       "...   ...   ...    ...    ...    ...    ...    ...   ...  ...  ...    ...  \n",
       "9982  ...     0      0      0      0      0      0     1    0    0      0  \n",
       "9983  ...     0      0      0      0      0      0     0    0    0      0  \n",
       "9984  ...     0      0      0      0      0      1     0    0    0      0  \n",
       "9985  ...     0      0      0      1      0      0     1    0    0      0  \n",
       "9986  ...     0      0      0      0      1      0     1    0    0      0  \n",
       "\n",
       "[9987 rows x 300 columns]"
      ]
     },
     "execution_count": 19,
     "metadata": {},
     "output_type": "execute_result"
    }
   ],
   "source": [
    "# Fitting countvectorizer in data.review and getting X for ML\n",
    "X = cv.fit_transform(data.review).toarray()\n",
    "x1=pd.DataFrame(X,columns=cv.get_feature_names())\n",
    "x1\n"
   ]
  },
  {
   "cell_type": "code",
   "execution_count": 20,
   "id": "16f564b8",
   "metadata": {
    "collapsed": true
   },
   "outputs": [
    {
     "data": {
      "text/plain": [
       "(9987, 300)"
      ]
     },
     "execution_count": 20,
     "metadata": {},
     "output_type": "execute_result"
    }
   ],
   "source": [
    "x1.shape"
   ]
  },
  {
   "cell_type": "code",
   "execution_count": 21,
   "id": "f7238eff",
   "metadata": {},
   "outputs": [],
   "source": [
    "#Importing label encoder\n",
    "from sklearn.preprocessing import LabelEncoder\n",
    "lb = LabelEncoder()\n",
    "\n",
    "# positive = 1, negative = 0\n",
    "data.sentiment = lb.fit_transform(data.sentiment)"
   ]
  },
  {
   "cell_type": "code",
   "execution_count": 22,
   "id": "99e8e501",
   "metadata": {
    "collapsed": true
   },
   "outputs": [
    {
     "data": {
      "text/plain": [
       "4238     1\n",
       "8153     0\n",
       "30214    0\n",
       "33260    0\n",
       "13746    0\n",
       "        ..\n",
       "4923     0\n",
       "37796    1\n",
       "2229     0\n",
       "41556    1\n",
       "49358    1\n",
       "Name: sentiment, Length: 9987, dtype: int32"
      ]
     },
     "execution_count": 22,
     "metadata": {},
     "output_type": "execute_result"
    }
   ],
   "source": [
    "data.sentiment"
   ]
  },
  {
   "cell_type": "code",
   "execution_count": 23,
   "id": "b7d8e6d5",
   "metadata": {},
   "outputs": [],
   "source": [
    "y=data.sentiment"
   ]
  },
  {
   "cell_type": "code",
   "execution_count": 24,
   "id": "51df23c4",
   "metadata": {
    "collapsed": true
   },
   "outputs": [
    {
     "data": {
      "text/plain": [
       "(9987,)"
      ]
     },
     "execution_count": 24,
     "metadata": {},
     "output_type": "execute_result"
    }
   ],
   "source": [
    "y.shape"
   ]
  },
  {
   "cell_type": "code",
   "execution_count": 25,
   "id": "096b88fc",
   "metadata": {},
   "outputs": [],
   "source": [
    "from sklearn.model_selection import train_test_split\n",
    "\n",
    "# converting X, y into train test split\n",
    "xtrain, xtest, ytrain, ytest = train_test_split(x1, y, test_size=0.2, random_state=42)"
   ]
  },
  {
   "cell_type": "code",
   "execution_count": 26,
   "id": "94d5f22c",
   "metadata": {
    "collapsed": true
   },
   "outputs": [
    {
     "data": {
      "text/plain": [
       "(7989,)"
      ]
     },
     "execution_count": 26,
     "metadata": {},
     "output_type": "execute_result"
    }
   ],
   "source": [
    "ytrain.shape"
   ]
  },
  {
   "cell_type": "code",
   "execution_count": 27,
   "id": "48fac09f",
   "metadata": {
    "collapsed": true
   },
   "outputs": [
    {
     "name": "stdout",
     "output_type": "stream",
     "text": [
      "Requirement already satisfied: tensorflow in c:\\users\\sit\\anaconda3\\lib\\site-packages (2.11.0)\n",
      "Requirement already satisfied: tensorflow-intel==2.11.0 in c:\\users\\sit\\anaconda3\\lib\\site-packages (from tensorflow) (2.11.0)\n",
      "Requirement already satisfied: keras<2.12,>=2.11.0 in c:\\users\\sit\\anaconda3\\lib\\site-packages (from tensorflow-intel==2.11.0->tensorflow) (2.11.0)\n",
      "Requirement already satisfied: opt-einsum>=2.3.2 in c:\\users\\sit\\anaconda3\\lib\\site-packages (from tensorflow-intel==2.11.0->tensorflow) (3.3.0)\n",
      "Requirement already satisfied: google-pasta>=0.1.1 in c:\\users\\sit\\anaconda3\\lib\\site-packages (from tensorflow-intel==2.11.0->tensorflow) (0.2.0)\n",
      "Requirement already satisfied: setuptools in c:\\users\\sit\\anaconda3\\lib\\site-packages (from tensorflow-intel==2.11.0->tensorflow) (58.0.4)\n",
      "Requirement already satisfied: numpy>=1.20 in c:\\users\\sit\\anaconda3\\lib\\site-packages (from tensorflow-intel==2.11.0->tensorflow) (1.20.3)\n",
      "Requirement already satisfied: wrapt>=1.11.0 in c:\\users\\sit\\anaconda3\\lib\\site-packages (from tensorflow-intel==2.11.0->tensorflow) (1.12.1)\n",
      "Requirement already satisfied: gast<=0.4.0,>=0.2.1 in c:\\users\\sit\\anaconda3\\lib\\site-packages (from tensorflow-intel==2.11.0->tensorflow) (0.4.0)\n",
      "Requirement already satisfied: tensorflow-estimator<2.12,>=2.11.0 in c:\\users\\sit\\anaconda3\\lib\\site-packages (from tensorflow-intel==2.11.0->tensorflow) (2.11.0)\n",
      "Requirement already satisfied: h5py>=2.9.0 in c:\\users\\sit\\anaconda3\\lib\\site-packages (from tensorflow-intel==2.11.0->tensorflow) (3.2.1)\n",
      "Requirement already satisfied: typing-extensions>=3.6.6 in c:\\users\\sit\\anaconda3\\lib\\site-packages (from tensorflow-intel==2.11.0->tensorflow) (3.10.0.2)\n",
      "Requirement already satisfied: protobuf<3.20,>=3.9.2 in c:\\users\\sit\\anaconda3\\lib\\site-packages (from tensorflow-intel==2.11.0->tensorflow) (3.19.6)\n",
      "Requirement already satisfied: libclang>=13.0.0 in c:\\users\\sit\\anaconda3\\lib\\site-packages (from tensorflow-intel==2.11.0->tensorflow) (15.0.6.1)\n",
      "Requirement already satisfied: grpcio<2.0,>=1.24.3 in c:\\users\\sit\\anaconda3\\lib\\site-packages (from tensorflow-intel==2.11.0->tensorflow) (1.51.1)\n",
      "Requirement already satisfied: packaging in c:\\users\\sit\\anaconda3\\lib\\site-packages (from tensorflow-intel==2.11.0->tensorflow) (21.0)\n",
      "Requirement already satisfied: tensorflow-io-gcs-filesystem>=0.23.1 in c:\\users\\sit\\anaconda3\\lib\\site-packages (from tensorflow-intel==2.11.0->tensorflow) (0.30.0)\n",
      "Requirement already satisfied: absl-py>=1.0.0 in c:\\users\\sit\\anaconda3\\lib\\site-packages (from tensorflow-intel==2.11.0->tensorflow) (1.4.0)\n",
      "Requirement already satisfied: tensorboard<2.12,>=2.11 in c:\\users\\sit\\anaconda3\\lib\\site-packages (from tensorflow-intel==2.11.0->tensorflow) (2.11.2)\n",
      "Requirement already satisfied: flatbuffers>=2.0 in c:\\users\\sit\\anaconda3\\lib\\site-packages (from tensorflow-intel==2.11.0->tensorflow) (23.1.21)\n",
      "Requirement already satisfied: termcolor>=1.1.0 in c:\\users\\sit\\anaconda3\\lib\\site-packages (from tensorflow-intel==2.11.0->tensorflow) (2.2.0)\n",
      "Requirement already satisfied: astunparse>=1.6.0 in c:\\users\\sit\\anaconda3\\lib\\site-packages (from tensorflow-intel==2.11.0->tensorflow) (1.6.3)\n",
      "Requirement already satisfied: six>=1.12.0 in c:\\users\\sit\\anaconda3\\lib\\site-packages (from tensorflow-intel==2.11.0->tensorflow) (1.16.0)\n",
      "Requirement already satisfied: wheel<1.0,>=0.23.0 in c:\\users\\sit\\anaconda3\\lib\\site-packages (from astunparse>=1.6.0->tensorflow-intel==2.11.0->tensorflow) (0.37.0)\n",
      "Requirement already satisfied: requests<3,>=2.21.0 in c:\\users\\sit\\anaconda3\\lib\\site-packages (from tensorboard<2.12,>=2.11->tensorflow-intel==2.11.0->tensorflow) (2.26.0)\n",
      "Requirement already satisfied: google-auth-oauthlib<0.5,>=0.4.1 in c:\\users\\sit\\anaconda3\\lib\\site-packages (from tensorboard<2.12,>=2.11->tensorflow-intel==2.11.0->tensorflow) (0.4.6)\n",
      "Requirement already satisfied: werkzeug>=1.0.1 in c:\\users\\sit\\anaconda3\\lib\\site-packages (from tensorboard<2.12,>=2.11->tensorflow-intel==2.11.0->tensorflow) (2.0.2)\n",
      "Requirement already satisfied: tensorboard-data-server<0.7.0,>=0.6.0 in c:\\users\\sit\\anaconda3\\lib\\site-packages (from tensorboard<2.12,>=2.11->tensorflow-intel==2.11.0->tensorflow) (0.6.1)\n",
      "Requirement already satisfied: tensorboard-plugin-wit>=1.6.0 in c:\\users\\sit\\anaconda3\\lib\\site-packages (from tensorboard<2.12,>=2.11->tensorflow-intel==2.11.0->tensorflow) (1.8.1)\n",
      "Requirement already satisfied: markdown>=2.6.8 in c:\\users\\sit\\anaconda3\\lib\\site-packages (from tensorboard<2.12,>=2.11->tensorflow-intel==2.11.0->tensorflow) (3.4.1)\n",
      "Requirement already satisfied: google-auth<3,>=1.6.3 in c:\\users\\sit\\anaconda3\\lib\\site-packages (from tensorboard<2.12,>=2.11->tensorflow-intel==2.11.0->tensorflow) (2.16.0)\n",
      "Requirement already satisfied: rsa<5,>=3.1.4 in c:\\users\\sit\\anaconda3\\lib\\site-packages (from google-auth<3,>=1.6.3->tensorboard<2.12,>=2.11->tensorflow-intel==2.11.0->tensorflow) (4.9)\n",
      "Requirement already satisfied: pyasn1-modules>=0.2.1 in c:\\users\\sit\\anaconda3\\lib\\site-packages (from google-auth<3,>=1.6.3->tensorboard<2.12,>=2.11->tensorflow-intel==2.11.0->tensorflow) (0.2.8)\n",
      "Requirement already satisfied: cachetools<6.0,>=2.0.0 in c:\\users\\sit\\anaconda3\\lib\\site-packages (from google-auth<3,>=1.6.3->tensorboard<2.12,>=2.11->tensorflow-intel==2.11.0->tensorflow) (5.3.0)\n",
      "Requirement already satisfied: requests-oauthlib>=0.7.0 in c:\\users\\sit\\anaconda3\\lib\\site-packages (from google-auth-oauthlib<0.5,>=0.4.1->tensorboard<2.12,>=2.11->tensorflow-intel==2.11.0->tensorflow) (1.3.1)\n",
      "Requirement already satisfied: importlib-metadata>=4.4 in c:\\users\\sit\\anaconda3\\lib\\site-packages (from markdown>=2.6.8->tensorboard<2.12,>=2.11->tensorflow-intel==2.11.0->tensorflow) (4.8.1)\n",
      "Requirement already satisfied: zipp>=0.5 in c:\\users\\sit\\anaconda3\\lib\\site-packages (from importlib-metadata>=4.4->markdown>=2.6.8->tensorboard<2.12,>=2.11->tensorflow-intel==2.11.0->tensorflow) (3.6.0)\n",
      "Requirement already satisfied: pyasn1<0.5.0,>=0.4.6 in c:\\users\\sit\\anaconda3\\lib\\site-packages (from pyasn1-modules>=0.2.1->google-auth<3,>=1.6.3->tensorboard<2.12,>=2.11->tensorflow-intel==2.11.0->tensorflow) (0.4.8)\n",
      "Requirement already satisfied: charset-normalizer~=2.0.0 in c:\\users\\sit\\anaconda3\\lib\\site-packages (from requests<3,>=2.21.0->tensorboard<2.12,>=2.11->tensorflow-intel==2.11.0->tensorflow) (2.0.4)\n",
      "Requirement already satisfied: certifi>=2017.4.17 in c:\\users\\sit\\anaconda3\\lib\\site-packages (from requests<3,>=2.21.0->tensorboard<2.12,>=2.11->tensorflow-intel==2.11.0->tensorflow) (2021.10.8)\n",
      "Requirement already satisfied: urllib3<1.27,>=1.21.1 in c:\\users\\sit\\anaconda3\\lib\\site-packages (from requests<3,>=2.21.0->tensorboard<2.12,>=2.11->tensorflow-intel==2.11.0->tensorflow) (1.26.7)\n",
      "Requirement already satisfied: idna<4,>=2.5 in c:\\users\\sit\\anaconda3\\lib\\site-packages (from requests<3,>=2.21.0->tensorboard<2.12,>=2.11->tensorflow-intel==2.11.0->tensorflow) (3.2)\n",
      "Requirement already satisfied: oauthlib>=3.0.0 in c:\\users\\sit\\anaconda3\\lib\\site-packages (from requests-oauthlib>=0.7.0->google-auth-oauthlib<0.5,>=0.4.1->tensorboard<2.12,>=2.11->tensorflow-intel==2.11.0->tensorflow) (3.2.2)\n",
      "Requirement already satisfied: pyparsing>=2.0.2 in c:\\users\\sit\\anaconda3\\lib\\site-packages (from packaging->tensorflow-intel==2.11.0->tensorflow) (3.0.4)\n",
      "Note: you may need to restart the kernel to use updated packages.\n"
     ]
    }
   ],
   "source": [
    "pip install tensorflow"
   ]
  },
  {
   "cell_type": "code",
   "execution_count": 61,
   "id": "006a64ba",
   "metadata": {},
   "outputs": [
    {
     "name": "stdout",
     "output_type": "stream",
     "text": [
      "Requirement already satisfied: keras in c:\\users\\sit\\anaconda3\\lib\\site-packages (2.11.0)\n",
      "Note: you may need to restart the kernel to use updated packages.\n"
     ]
    }
   ],
   "source": [
    "pip install keras"
   ]
  },
  {
   "cell_type": "code",
   "execution_count": 28,
   "id": "ecb2261e",
   "metadata": {},
   "outputs": [],
   "source": [
    "import tensorflow.keras as tk\n"
   ]
  },
  {
   "cell_type": "code",
   "execution_count": 29,
   "id": "2a3ba0bc",
   "metadata": {},
   "outputs": [
    {
     "name": "stdout",
     "output_type": "stream",
     "text": [
      "Model: \"sequential\"\n",
      "_________________________________________________________________\n",
      " Layer (type)                Output Shape              Param #   \n",
      "=================================================================\n",
      " dense (Dense)               (None, 50)                15050     \n",
      "                                                                 \n",
      " dense_1 (Dense)             (None, 1)                 51        \n",
      "                                                                 \n",
      "=================================================================\n",
      "Total params: 15,101\n",
      "Trainable params: 15,101\n",
      "Non-trainable params: 0\n",
      "_________________________________________________________________\n"
     ]
    }
   ],
   "source": [
    "model = tk.Sequential()\n",
    "model.add(tk.layers.Input(shape=(300,)))\n",
    "model.add(tk.layers.Dense(50, activation='relu',kernel_initializer=\"he_uniform\"))\n",
    "model.add(tk.layers.Dense(1, activation='sigmoid',kernel_initializer=\"he_uniform\"))\n",
    "model.summary()"
   ]
  },
  {
   "cell_type": "code",
   "execution_count": 30,
   "id": "3d033fa1",
   "metadata": {},
   "outputs": [],
   "source": [
    "model.compile(optimizer = 'adam', loss = 'binary_crossentropy', metrics = ['accuracy'])"
   ]
  },
  {
   "cell_type": "code",
   "execution_count": 31,
   "id": "daa293ec",
   "metadata": {
    "collapsed": true
   },
   "outputs": [
    {
     "name": "stdout",
     "output_type": "stream",
     "text": [
      "Epoch 1/80\n",
      "125/125 [==============================] - 2s 3ms/step - loss: 0.5739 - accuracy: 0.7012 - val_loss: 0.4948 - val_accuracy: 0.7538\n",
      "Epoch 2/80\n",
      "125/125 [==============================] - 0s 2ms/step - loss: 0.4516 - accuracy: 0.7943 - val_loss: 0.4671 - val_accuracy: 0.7788\n",
      "Epoch 3/80\n",
      "125/125 [==============================] - 0s 2ms/step - loss: 0.4203 - accuracy: 0.8104 - val_loss: 0.4520 - val_accuracy: 0.7863\n",
      "Epoch 4/80\n",
      "125/125 [==============================] - 0s 2ms/step - loss: 0.4037 - accuracy: 0.8161 - val_loss: 0.4607 - val_accuracy: 0.7903\n",
      "Epoch 5/80\n",
      "125/125 [==============================] - 0s 2ms/step - loss: 0.3889 - accuracy: 0.8264 - val_loss: 0.4555 - val_accuracy: 0.7873\n",
      "Epoch 6/80\n",
      "125/125 [==============================] - 0s 2ms/step - loss: 0.3719 - accuracy: 0.8333 - val_loss: 0.4507 - val_accuracy: 0.7958\n",
      "Epoch 7/80\n",
      "125/125 [==============================] - 0s 2ms/step - loss: 0.3545 - accuracy: 0.8429 - val_loss: 0.4560 - val_accuracy: 0.7908\n",
      "Epoch 8/80\n",
      "125/125 [==============================] - 0s 2ms/step - loss: 0.3362 - accuracy: 0.8542 - val_loss: 0.4544 - val_accuracy: 0.8003\n",
      "Epoch 9/80\n",
      "125/125 [==============================] - 0s 2ms/step - loss: 0.3180 - accuracy: 0.8632 - val_loss: 0.4605 - val_accuracy: 0.7923\n",
      "Epoch 10/80\n",
      "125/125 [==============================] - 0s 2ms/step - loss: 0.3003 - accuracy: 0.8727 - val_loss: 0.4606 - val_accuracy: 0.7928\n",
      "Epoch 11/80\n",
      "125/125 [==============================] - 0s 2ms/step - loss: 0.2841 - accuracy: 0.8853 - val_loss: 0.4718 - val_accuracy: 0.7908\n",
      "Epoch 12/80\n",
      "125/125 [==============================] - 0s 2ms/step - loss: 0.2662 - accuracy: 0.8969 - val_loss: 0.4741 - val_accuracy: 0.7973\n",
      "Epoch 13/80\n",
      "125/125 [==============================] - 0s 2ms/step - loss: 0.2491 - accuracy: 0.9054 - val_loss: 0.4788 - val_accuracy: 0.7918\n",
      "Epoch 14/80\n",
      "125/125 [==============================] - 0s 2ms/step - loss: 0.2329 - accuracy: 0.9154 - val_loss: 0.4967 - val_accuracy: 0.7838\n",
      "Epoch 15/80\n",
      "125/125 [==============================] - 0s 2ms/step - loss: 0.2191 - accuracy: 0.9231 - val_loss: 0.4948 - val_accuracy: 0.7838\n",
      "Epoch 16/80\n",
      "125/125 [==============================] - 0s 2ms/step - loss: 0.2035 - accuracy: 0.9344 - val_loss: 0.5010 - val_accuracy: 0.7888\n",
      "Epoch 17/80\n",
      "125/125 [==============================] - 0s 2ms/step - loss: 0.1887 - accuracy: 0.9408 - val_loss: 0.5124 - val_accuracy: 0.7888\n",
      "Epoch 18/80\n",
      "125/125 [==============================] - 0s 2ms/step - loss: 0.1764 - accuracy: 0.9463 - val_loss: 0.5204 - val_accuracy: 0.7823\n",
      "Epoch 19/80\n",
      "125/125 [==============================] - 0s 2ms/step - loss: 0.1633 - accuracy: 0.9553 - val_loss: 0.5304 - val_accuracy: 0.7883\n",
      "Epoch 20/80\n",
      "125/125 [==============================] - 0s 2ms/step - loss: 0.1527 - accuracy: 0.9583 - val_loss: 0.5429 - val_accuracy: 0.7843\n",
      "Epoch 21/80\n",
      "125/125 [==============================] - 0s 2ms/step - loss: 0.1406 - accuracy: 0.9658 - val_loss: 0.5505 - val_accuracy: 0.7878\n",
      "Epoch 22/80\n",
      "125/125 [==============================] - 0s 2ms/step - loss: 0.1302 - accuracy: 0.9691 - val_loss: 0.5645 - val_accuracy: 0.7853\n",
      "Epoch 23/80\n",
      "125/125 [==============================] - 0s 2ms/step - loss: 0.1226 - accuracy: 0.9727 - val_loss: 0.5777 - val_accuracy: 0.7833\n",
      "Epoch 24/80\n",
      "125/125 [==============================] - 0s 2ms/step - loss: 0.1126 - accuracy: 0.9767 - val_loss: 0.5871 - val_accuracy: 0.7858\n",
      "Epoch 25/80\n",
      "125/125 [==============================] - 0s 2ms/step - loss: 0.1033 - accuracy: 0.9797 - val_loss: 0.5978 - val_accuracy: 0.7818\n",
      "Epoch 26/80\n",
      "125/125 [==============================] - 0s 2ms/step - loss: 0.0946 - accuracy: 0.9827 - val_loss: 0.6168 - val_accuracy: 0.7798\n",
      "Epoch 27/80\n",
      "125/125 [==============================] - 0s 2ms/step - loss: 0.0875 - accuracy: 0.9861 - val_loss: 0.6269 - val_accuracy: 0.7833\n",
      "Epoch 28/80\n",
      "125/125 [==============================] - 0s 2ms/step - loss: 0.0804 - accuracy: 0.9889 - val_loss: 0.6395 - val_accuracy: 0.7813\n",
      "Epoch 29/80\n",
      "125/125 [==============================] - 0s 2ms/step - loss: 0.0739 - accuracy: 0.9896 - val_loss: 0.6529 - val_accuracy: 0.7828\n",
      "Epoch 30/80\n",
      "125/125 [==============================] - 0s 2ms/step - loss: 0.0680 - accuracy: 0.9922 - val_loss: 0.6648 - val_accuracy: 0.7793\n",
      "Epoch 31/80\n",
      "125/125 [==============================] - 0s 2ms/step - loss: 0.0622 - accuracy: 0.9932 - val_loss: 0.6825 - val_accuracy: 0.7783\n",
      "Epoch 32/80\n",
      "125/125 [==============================] - 0s 2ms/step - loss: 0.0570 - accuracy: 0.9946 - val_loss: 0.6921 - val_accuracy: 0.7828\n",
      "Epoch 33/80\n",
      "125/125 [==============================] - 0s 2ms/step - loss: 0.0524 - accuracy: 0.9951 - val_loss: 0.6992 - val_accuracy: 0.7838\n",
      "Epoch 34/80\n",
      "125/125 [==============================] - 0s 2ms/step - loss: 0.0481 - accuracy: 0.9966 - val_loss: 0.7217 - val_accuracy: 0.7813\n",
      "Epoch 35/80\n",
      "125/125 [==============================] - 0s 2ms/step - loss: 0.0442 - accuracy: 0.9967 - val_loss: 0.7311 - val_accuracy: 0.7883\n",
      "Epoch 36/80\n",
      "125/125 [==============================] - 0s 2ms/step - loss: 0.0406 - accuracy: 0.9972 - val_loss: 0.7477 - val_accuracy: 0.7783\n",
      "Epoch 37/80\n",
      "125/125 [==============================] - 0s 2ms/step - loss: 0.0370 - accuracy: 0.9982 - val_loss: 0.7576 - val_accuracy: 0.7783\n",
      "Epoch 38/80\n",
      "125/125 [==============================] - 0s 2ms/step - loss: 0.0338 - accuracy: 0.9982 - val_loss: 0.7711 - val_accuracy: 0.7813\n",
      "Epoch 39/80\n",
      "125/125 [==============================] - 0s 2ms/step - loss: 0.0312 - accuracy: 0.9987 - val_loss: 0.7856 - val_accuracy: 0.7798\n",
      "Epoch 40/80\n",
      "125/125 [==============================] - 0s 2ms/step - loss: 0.0283 - accuracy: 0.9990 - val_loss: 0.8054 - val_accuracy: 0.7798\n",
      "Epoch 41/80\n",
      "125/125 [==============================] - 0s 2ms/step - loss: 0.0260 - accuracy: 0.9989 - val_loss: 0.8189 - val_accuracy: 0.7773\n",
      "Epoch 42/80\n",
      "125/125 [==============================] - 0s 2ms/step - loss: 0.0238 - accuracy: 0.9994 - val_loss: 0.8318 - val_accuracy: 0.7793\n",
      "Epoch 43/80\n",
      "125/125 [==============================] - 0s 2ms/step - loss: 0.0218 - accuracy: 0.9995 - val_loss: 0.8516 - val_accuracy: 0.7768\n",
      "Epoch 44/80\n",
      "125/125 [==============================] - 0s 2ms/step - loss: 0.0200 - accuracy: 0.9996 - val_loss: 0.8536 - val_accuracy: 0.7823\n",
      "Epoch 45/80\n",
      "125/125 [==============================] - 0s 2ms/step - loss: 0.0184 - accuracy: 0.9999 - val_loss: 0.8744 - val_accuracy: 0.7803\n",
      "Epoch 46/80\n",
      "125/125 [==============================] - 0s 2ms/step - loss: 0.0170 - accuracy: 1.0000 - val_loss: 0.8822 - val_accuracy: 0.7813\n",
      "Epoch 47/80\n",
      "125/125 [==============================] - 0s 2ms/step - loss: 0.0156 - accuracy: 1.0000 - val_loss: 0.8965 - val_accuracy: 0.7828\n",
      "Epoch 48/80\n",
      "125/125 [==============================] - 0s 2ms/step - loss: 0.0142 - accuracy: 0.9999 - val_loss: 0.9114 - val_accuracy: 0.7768\n",
      "Epoch 49/80\n",
      "125/125 [==============================] - 0s 2ms/step - loss: 0.0131 - accuracy: 1.0000 - val_loss: 0.9264 - val_accuracy: 0.7803\n",
      "Epoch 50/80\n",
      "125/125 [==============================] - 0s 2ms/step - loss: 0.0121 - accuracy: 1.0000 - val_loss: 0.9464 - val_accuracy: 0.7788\n",
      "Epoch 51/80\n",
      "125/125 [==============================] - 0s 2ms/step - loss: 0.0111 - accuracy: 1.0000 - val_loss: 0.9548 - val_accuracy: 0.7823\n",
      "Epoch 52/80\n",
      "125/125 [==============================] - 0s 2ms/step - loss: 0.0102 - accuracy: 1.0000 - val_loss: 0.9780 - val_accuracy: 0.7773\n",
      "Epoch 53/80\n",
      "125/125 [==============================] - 0s 2ms/step - loss: 0.0095 - accuracy: 1.0000 - val_loss: 0.9775 - val_accuracy: 0.7833\n",
      "Epoch 54/80\n",
      "125/125 [==============================] - 0s 2ms/step - loss: 0.0086 - accuracy: 1.0000 - val_loss: 1.0003 - val_accuracy: 0.7818\n",
      "Epoch 55/80\n",
      "125/125 [==============================] - 0s 2ms/step - loss: 0.0081 - accuracy: 1.0000 - val_loss: 1.0113 - val_accuracy: 0.7828\n",
      "Epoch 56/80\n",
      "125/125 [==============================] - 0s 2ms/step - loss: 0.0074 - accuracy: 1.0000 - val_loss: 1.0305 - val_accuracy: 0.7798\n",
      "Epoch 57/80\n",
      "125/125 [==============================] - 0s 2ms/step - loss: 0.0068 - accuracy: 1.0000 - val_loss: 1.0406 - val_accuracy: 0.7828\n",
      "Epoch 58/80\n",
      "125/125 [==============================] - 0s 2ms/step - loss: 0.0064 - accuracy: 1.0000 - val_loss: 1.0496 - val_accuracy: 0.7848\n",
      "Epoch 59/80\n",
      "125/125 [==============================] - 0s 2ms/step - loss: 0.0059 - accuracy: 1.0000 - val_loss: 1.0732 - val_accuracy: 0.7808\n",
      "Epoch 60/80\n",
      "125/125 [==============================] - 0s 2ms/step - loss: 0.0054 - accuracy: 1.0000 - val_loss: 1.0789 - val_accuracy: 0.7808\n",
      "Epoch 61/80\n",
      "125/125 [==============================] - 0s 2ms/step - loss: 0.0049 - accuracy: 1.0000 - val_loss: 1.0936 - val_accuracy: 0.7823\n",
      "Epoch 62/80\n",
      "125/125 [==============================] - 0s 2ms/step - loss: 0.0046 - accuracy: 1.0000 - val_loss: 1.1109 - val_accuracy: 0.7833\n",
      "Epoch 63/80\n",
      "125/125 [==============================] - 0s 2ms/step - loss: 0.0043 - accuracy: 1.0000 - val_loss: 1.1191 - val_accuracy: 0.7843\n",
      "Epoch 64/80\n",
      "125/125 [==============================] - 0s 2ms/step - loss: 0.0040 - accuracy: 1.0000 - val_loss: 1.1403 - val_accuracy: 0.7843\n",
      "Epoch 65/80\n",
      "125/125 [==============================] - 0s 2ms/step - loss: 0.0037 - accuracy: 1.0000 - val_loss: 1.1503 - val_accuracy: 0.7808\n",
      "Epoch 66/80\n",
      "125/125 [==============================] - 0s 2ms/step - loss: 0.0034 - accuracy: 1.0000 - val_loss: 1.1644 - val_accuracy: 0.7863\n",
      "Epoch 67/80\n",
      "125/125 [==============================] - 0s 2ms/step - loss: 0.0031 - accuracy: 1.0000 - val_loss: 1.1744 - val_accuracy: 0.7838\n",
      "Epoch 68/80\n",
      "125/125 [==============================] - 0s 2ms/step - loss: 0.0029 - accuracy: 1.0000 - val_loss: 1.1984 - val_accuracy: 0.7798\n",
      "Epoch 69/80\n",
      "125/125 [==============================] - 0s 2ms/step - loss: 0.0027 - accuracy: 1.0000 - val_loss: 1.2115 - val_accuracy: 0.7808\n",
      "Epoch 70/80\n",
      "125/125 [==============================] - 0s 2ms/step - loss: 0.0025 - accuracy: 1.0000 - val_loss: 1.2270 - val_accuracy: 0.7798\n",
      "Epoch 71/80\n",
      "125/125 [==============================] - 0s 2ms/step - loss: 0.0023 - accuracy: 1.0000 - val_loss: 1.2317 - val_accuracy: 0.7828\n",
      "Epoch 72/80\n",
      "125/125 [==============================] - 0s 2ms/step - loss: 0.0021 - accuracy: 1.0000 - val_loss: 1.2445 - val_accuracy: 0.7818\n",
      "Epoch 73/80\n",
      "125/125 [==============================] - 0s 2ms/step - loss: 0.0020 - accuracy: 1.0000 - val_loss: 1.2633 - val_accuracy: 0.7808\n",
      "Epoch 74/80\n",
      "125/125 [==============================] - 0s 2ms/step - loss: 0.0019 - accuracy: 1.0000 - val_loss: 1.2717 - val_accuracy: 0.7853\n",
      "Epoch 75/80\n",
      "125/125 [==============================] - 0s 2ms/step - loss: 0.0017 - accuracy: 1.0000 - val_loss: 1.2885 - val_accuracy: 0.7868\n",
      "Epoch 76/80\n",
      "125/125 [==============================] - 0s 2ms/step - loss: 0.0016 - accuracy: 1.0000 - val_loss: 1.3023 - val_accuracy: 0.7823\n",
      "Epoch 77/80\n",
      "125/125 [==============================] - 0s 2ms/step - loss: 0.0015 - accuracy: 1.0000 - val_loss: 1.3161 - val_accuracy: 0.7828\n",
      "Epoch 78/80\n",
      "125/125 [==============================] - 0s 2ms/step - loss: 0.0014 - accuracy: 1.0000 - val_loss: 1.3219 - val_accuracy: 0.7853\n",
      "Epoch 79/80\n",
      "125/125 [==============================] - 0s 2ms/step - loss: 0.0013 - accuracy: 1.0000 - val_loss: 1.3444 - val_accuracy: 0.7833\n",
      "Epoch 80/80\n",
      "125/125 [==============================] - 0s 2ms/step - loss: 0.0012 - accuracy: 1.0000 - val_loss: 1.3579 - val_accuracy: 0.7838\n"
     ]
    }
   ],
   "source": [
    "obj1=model.fit(x=xtrain,y=ytrain,epochs=80,batch_size=64,validation_data=(xtest,ytest))"
   ]
  },
  {
   "cell_type": "code",
   "execution_count": 32,
   "id": "ea058353",
   "metadata": {},
   "outputs": [
    {
     "name": "stdout",
     "output_type": "stream",
     "text": [
      "63/63 [==============================] - 0s 756us/step\n"
     ]
    }
   ],
   "source": [
    "y_pred=model.predict(xtest)"
   ]
  },
  {
   "cell_type": "code",
   "execution_count": 33,
   "id": "f2f59d42",
   "metadata": {
    "collapsed": true
   },
   "outputs": [
    {
     "data": {
      "text/plain": [
       "array([[9.9999672e-01],\n",
       "       [9.9655408e-01],\n",
       "       [1.2207628e-05],\n",
       "       ...,\n",
       "       [1.4205696e-02],\n",
       "       [3.3290574e-13],\n",
       "       [2.1510099e-01]], dtype=float32)"
      ]
     },
     "execution_count": 33,
     "metadata": {},
     "output_type": "execute_result"
    }
   ],
   "source": [
    "y_pred"
   ]
  },
  {
   "cell_type": "code",
   "execution_count": 34,
   "id": "9273e535",
   "metadata": {},
   "outputs": [],
   "source": [
    "from sklearn.metrics import accuracy_score\n",
    "accuracy=accuracy_score(ytest,y_pred.round())"
   ]
  },
  {
   "cell_type": "code",
   "execution_count": 35,
   "id": "1bcb0a86",
   "metadata": {
    "collapsed": true
   },
   "outputs": [
    {
     "data": {
      "text/plain": [
       "0.7837837837837838"
      ]
     },
     "execution_count": 35,
     "metadata": {},
     "output_type": "execute_result"
    }
   ],
   "source": [
    "accuracy"
   ]
  },
  {
   "cell_type": "code",
   "execution_count": null,
   "id": "fb60f770",
   "metadata": {},
   "outputs": [],
   "source": []
  }
 ],
 "metadata": {
  "kernelspec": {
   "display_name": "Python 3 (ipykernel)",
   "language": "python",
   "name": "python3"
  },
  "language_info": {
   "codemirror_mode": {
    "name": "ipython",
    "version": 3
   },
   "file_extension": ".py",
   "mimetype": "text/x-python",
   "name": "python",
   "nbconvert_exporter": "python",
   "pygments_lexer": "ipython3",
   "version": "3.9.7"
  }
 },
 "nbformat": 4,
 "nbformat_minor": 5
}
